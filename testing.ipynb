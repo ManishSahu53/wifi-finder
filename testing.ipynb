{
 "cells": [
  {
   "cell_type": "code",
   "execution_count": 10,
   "metadata": {},
   "outputs": [],
   "source": [
    "import rssi"
   ]
  },
  {
   "cell_type": "code",
   "execution_count": 11,
   "metadata": {},
   "outputs": [],
   "source": [
    "interface = 'wlp58s0'"
   ]
  },
  {
   "cell_type": "code",
   "execution_count": 78,
   "metadata": {},
   "outputs": [],
   "source": [
    "name = \"rssi\"\n",
    "\n",
    "from subprocess import Popen, PIPE # Used to run native OS commads in python wrapped subproccess\n",
    "import numpy # Used for matrix operations in localization algorithm\n",
    "from sys import version_info # Used to check the Python-interpreter version at runtime\n",
    "\n",
    "# RSSI_Scan\n",
    "    # Use:\n",
    "        # from rssi import RSSI_Scan\n",
    "        # rssi_scan_instance = RSSI_Scan('network_interface_name) \n",
    "    # -------------------------------------------------------\n",
    "    # Description:\n",
    "        # Allows a user to query all available accesspoints available.\n",
    "        # User has the option of define a specific set of access \n",
    "        # points to query.\n",
    "    # -------------------------------------------------------\n",
    "    # Input: interface name\n",
    "        # [ie. network interface names: wlp1s0m, docker0, wlan0] \n",
    "class RSSI_Scan(object):\n",
    "    # Allows us to declare a network interface externally.\n",
    "    def __init__(self, interface):\n",
    "        self.interface = interface\n",
    "\n",
    "    # getRawNetworkScan\n",
    "        # Description:\n",
    "            # Runs the Ubuntu command 'iwlist' to scan for available networks.\n",
    "            # Returns the raw console window output (unparsed).\n",
    "        # ----------------------------------------------------------------\n",
    "        # Input: (optional) \n",
    "            #   sudo: bool; defaults to false. False will not refresh the \n",
    "            #         network interface upon query. Sudo=true will require \n",
    "            #         the user will need to enter a sudo password at runtime.\n",
    "        # ----------------------------------------------------------------\n",
    "        # Returns: Raw terminal output\n",
    "            # {\n",
    "            #     'output':'''wlp1s0    Scan completed :\n",
    "            #   Cell 01 - Address: A0:3D:6F:26:77:8E\n",
    "            #             Channel:144\n",
    "            #             Frequency:5.72 GHz\n",
    "            #             Quality=43/70  Signal level=-67 dBm  \n",
    "            #             Encryption key:on\n",
    "            #             ESSID:\"ucrwpa\"\n",
    "            #             Bit Rates:24 Mb/s; 36 Mb/s; 48 Mb/s; 54 Mb/s\n",
    "            #             Mode:Master\n",
    "            #   Cell 02 - Address: A0:3D:6F:26:77:82\n",
    "            #             Channel:1\n",
    "            #             Frequency:2.412 GHz (Channel 1)\n",
    "            #             Quality=43/70  Signal level=-67 dBm  \n",
    "            #             Encryption key:on\n",
    "            #             ESSID:\"eduroam\"\n",
    "            #             Bit Rates:18 Mb/s; 24 Mb/s; 36 Mb/s; 48 Mb/s; 54 Mb/s\n",
    "            #             Mode:Master''',\n",
    "            #     'error':''\n",
    "            # }\n",
    "    def getRawNetworkScan(self, sudo=False):\n",
    "        # Scan command 'iwlist interface scan' needs to be fed as an array.\n",
    "        if sudo:\n",
    "            scan_command = ['sudo','iwlist',self.interface,'scan']\n",
    "        else:\n",
    "            scan_command = ['iwlist',self.interface,'scan']\n",
    "        # Open a subprocess running the scan command.\n",
    "        scan_process = Popen(scan_command, stdout=PIPE, stderr=PIPE)\n",
    "        # Returns the 'success' and 'error' output.\n",
    "        (raw_output, raw_error) = scan_process.communicate() \n",
    "        # Block all execution, until the scanning completes.\n",
    "        scan_process.wait()\n",
    "        # Returns all output in a dictionary for easy retrieval.\n",
    "        return {'output':raw_output,'error':raw_error}\n",
    "\n",
    "    # getSSID\n",
    "        # Description:\n",
    "            # Parses the 'SSID' for a given cell.\n",
    "        # -----------------------------------------------\n",
    "        # Input: (Raw string)\n",
    "            # 01 - Address: A0:3D:6F:26:77:8E\n",
    "            # Channel:144\n",
    "            # Frequency:5.72 GHz\n",
    "            # Quality=43/70  Signal level=-67 dBm  \n",
    "            # Encryption key:on\n",
    "            # ESSID:\"ucrwpa\"\n",
    "            # Bit Rates:24 Mb/s; 36 Mb/s; 48 Mb/s; 54 Mb/s\n",
    "            # Mode:Master\n",
    "        # -----------------------------------------------\n",
    "        # Returns:\n",
    "            # 'ucrwpa'\n",
    "    @staticmethod\n",
    "    def getSSID(raw_cell):\n",
    "        ssid = raw_cell.split('ESSID:\"')[1]\n",
    "        ssid = ssid.split('\"')[0]\n",
    "        return ssid\n",
    "\n",
    "    # getQuality\n",
    "        # Description:\n",
    "            # Parses 'Quality level' for a given cell.\n",
    "        # -----------------------------------------------\n",
    "        # Input: (Raw string)\n",
    "            # 01 - Address: A0:3D:6F:26:77:8E\n",
    "            # Channel:144\n",
    "            # Frequency:5.72 GHz\n",
    "            # Quality=43/70  Signal level=-67 dBm  \n",
    "            # Encryption key:on\n",
    "            # ESSID:\"ucrwpa\"\n",
    "            # Bit Rates:24 Mb/s; 36 Mb/s; 48 Mb/s; 54 Mb/s\n",
    "            # Mode:Master\n",
    "        # -----------------------------------------------\n",
    "        # Returns:\n",
    "            # '43/70'\n",
    "    @staticmethod\n",
    "    def getFrequency(raw_cell):\n",
    "        quality = raw_cell.split('Frequency:')[1]\n",
    "        quality = quality.split(' ')[0]\n",
    "        return float(quality)\n",
    "\n",
    "    @staticmethod\n",
    "    def getQuality(raw_cell):\n",
    "        quality = raw_cell.split('Quality=')[1]\n",
    "        quality = quality.split(' ')[0]\n",
    "        return quality\n",
    "\n",
    "    # getSignalLevel\n",
    "        # Description:\n",
    "            # Parses 'Signal level' for a given cell.\n",
    "            # Measurement is in 'dBm'.\n",
    "        # -----------------------------------------------\n",
    "        # Input: (Raw string)\n",
    "            # 01 - Address: A0:3D:6F:26:77:8E\n",
    "            # Channel:144\n",
    "            # Frequency:5.72 GHz\n",
    "            # Quality=43/70  Signal level=-67 dBm  \n",
    "            # Encryption key:on\n",
    "            # ESSID:\"ucrwpa\"\n",
    "            # Bit Rates:24 Mb/s; 36 Mb/s; 48 Mb/s; 54 Mb/s\n",
    "            # Mode:Master\n",
    "        # -----------------------------------------------\n",
    "        # Returns: (string)\n",
    "            # '-67'    \n",
    "    @staticmethod\n",
    "    def getSignalLevel(raw_cell):\n",
    "        signal = raw_cell.split('Signal level=')[1]\n",
    "        signal = int(signal.split(' ')[0])\n",
    "        return signal\n",
    "\n",
    "    # getMacAddress\n",
    "        # Description:\n",
    "            # Method returns the MAC address of the AP\n",
    "        # -----------------------------------------------\n",
    "        #   Input: (Raw string)\n",
    "            # 01 - Address: A0:3D:6F:26:77:8E\n",
    "            # Channel:144\n",
    "            # Frequency:5.72 GHz\n",
    "            # Quality=43/70  Signal level=-67 dBm  \n",
    "            # Encryption key:on\n",
    "            # ESSID:\"ucrwpa\"\n",
    "            # Bit Rates:24 Mb/s; 36 Mb/s; 48 Mb/s; 54 Mb/s\n",
    "            # Mode:Master\n",
    "        # -----------------------------------------------\n",
    "        # Returns: (string)\n",
    "            #   'A0:3D:6F:26:77:8E'\n",
    "    @staticmethod\n",
    "    def getMacAddress(raw_cell):\n",
    "        mac = raw_cell.split('Address: ')[1]\n",
    "        mac = mac.split(' ')[0]\n",
    "        mac = mac.strip()\n",
    "        return mac\n",
    "\n",
    "    # parseCell\n",
    "        # Description:\n",
    "            # Takes a raw cell string and parses it into a dictionary.\n",
    "        # -----------------------------------------------\n",
    "        # Input: (Raw string)\n",
    "            # '''01 - Address: A0:3D:6F:26:77:8E\n",
    "            # Channel:144\n",
    "            # Frequency:5.72 GHz\n",
    "            # Quality=43/70  Signal level=-67 dBm  \n",
    "            # Encryption key:on\n",
    "            # ESSID:\"ucrwpa\"\n",
    "            # Bit Rates:24 Mb/s; 36 Mb/s; 48 Mb/s; 54 Mb/s\n",
    "            # Mode:Master'''\n",
    "        # -----------------------------------------------\n",
    "        # Returns:\n",
    "            # {\n",
    "            #     'ssid':'ucrwpa',\n",
    "            #     'quality':'43/70',\n",
    "            #     'signal':'-67'\n",
    "            # }    \n",
    "    def parseCell(self, raw_cell):\n",
    "        cell = {\n",
    "            'ssid': self.getSSID(raw_cell),\n",
    "            'quality': self.getQuality(raw_cell),\n",
    "            'signal': self.getSignalLevel(raw_cell),\n",
    "            'mac': self.getMacAddress(raw_cell),\n",
    "            'frequency': self.getFrequency(raw_cell)\n",
    "        }\n",
    "        return cell\n",
    "\n",
    "    # formatCells\n",
    "        # Description:\n",
    "            # Every network listed is considered a 'cell.\n",
    "            # This function parses each cell into a dictionary.\n",
    "            # Returns list of dictionaries. Makes use of 'parseCell'.\n",
    "            # If not networks were detected, returns False.\n",
    "        # -----------------------------------------------\n",
    "        # Input: (Raw terminal string)\n",
    "            # '''01 - Address: A0:3D:6F:26:77:8E\n",
    "            # Channel:144\n",
    "            # Frequency:5.72 GHz\n",
    "            # Quality=43/70  Signal level=-67 dBm  \n",
    "            # Encryption key:on\n",
    "            # ESSID:\"ucrwpa\"\n",
    "            # Bit Rates:24 Mb/s; 36 Mb/s; 48 Mb/s; 54 Mb/s\n",
    "            # Mode:Master\n",
    "            # 02 - Address: A0:3D:6F:26:77:8E\n",
    "            # Channel:144\n",
    "            # Frequency:5.72 GHz\n",
    "            # Quality=30/70  Signal level=-42 dBm  \n",
    "            # Encryption key:on\n",
    "            # ESSID:\"dd-wrt\"\n",
    "            # Bit Rates:24 Mb/s; 36 Mb/s; 48 Mb/s; 54 Mb/s\n",
    "            # Mode:Master'''\n",
    "        # -----------------------------------------------\n",
    "        # Returns: (Array of dictionaries)\n",
    "            # [\n",
    "            #     {\n",
    "            #         'ssid':'ucrwpa',\n",
    "            #         'quality':'43/70',\n",
    "            #         'signal':'-67'\n",
    "            #     },\n",
    "            #     {\n",
    "            #         'ssid':'dd-wrt',\n",
    "            #         'quality':'30/70',\n",
    "            #         'signal':'-42'\n",
    "            #     }\n",
    "            # ]    \n",
    "    def formatCells(self, raw_cell_string):\n",
    "        try:\n",
    "            raw_cell_string = raw_cell_string.decode()\n",
    "        except:\n",
    "            print('Already in string.')\n",
    "        \n",
    "        raw_cells = raw_cell_string.split('Cell') # Divide raw string into raw cells.\n",
    "        raw_cells.pop(0) # Remove unneccesary \"Scan Completed\" message.\n",
    "        if(len(raw_cells) > 0): # Continue execution, if atleast one network is detected.\n",
    "            # Iterate through raw cells for parsing.\n",
    "            # Array will hold all parsed cells as dictionaries.\n",
    "            formatted_cells = [self.parseCell(cell) for cell in raw_cells]\n",
    "            # Return array of dictionaries, containing cells.\n",
    "            return formatted_cells\n",
    "        else:\n",
    "            print(\"Networks not detected.\")\n",
    "            return False\n",
    "        # TODO implement function in ndoe to process this boolean (False)\n",
    "\n",
    "    # filterAccessPoints\n",
    "        # Description:\n",
    "            # If the 'networks' parameter is passed to the 'getAPinfo'\n",
    "            # function, then this method will filter out all irrelevant \n",
    "            # access-points. Access points specified in 'networks' array \n",
    "            # will be returned (if available).\n",
    "        # -----------------------------------------------\n",
    "        # Input: (Parsed array of cell dictionaries)\n",
    "            # all_access_points = \n",
    "            # [\n",
    "            #     {\n",
    "            #         'ssid':'ucrwpa',\n",
    "            #         'quality':'43/70',\n",
    "            #         'signal':'-67'\n",
    "            #     },\n",
    "            #     {\n",
    "            #         'ssid':'dd-wrt',\n",
    "            #         'quality':'30/70',\n",
    "            #         'signal':'-42'\n",
    "            #     },\n",
    "            #     {\n",
    "            #         'ssid':'linksys',\n",
    "            #         'quality':'58/70',\n",
    "            #         'signal':'-24'\n",
    "            #     }\n",
    "            # ] \n",
    "            # network_names = (array of network names)\n",
    "            # ['ucrwpa','dd-wrt']\n",
    "        # -----------------------------------------------\n",
    "        # Returns: (Array of dictionaries)\n",
    "            # [\n",
    "            #     {\n",
    "            #         'ssid':'ucrwpa',\n",
    "            #         'quality':'43/70',\n",
    "            #         'signal':'-67'\n",
    "            #     },\n",
    "            #     {\n",
    "            #         'ssid':'dd-wrt',\n",
    "            #         'quality':'30/70',\n",
    "            #         'signal':'-42'\n",
    "            #     }\n",
    "            # ] \n",
    "    @staticmethod\n",
    "    def filterAccessPoints(all_access_points, network_names):\n",
    "        focus_points = [] # Array holding the access-points of concern.\n",
    "        # Iterate throguh all access-points found.\n",
    "        for point in all_access_points:\n",
    "            # Check if current AP is in our desired list.\n",
    "            if point['ssid'] in network_names:\n",
    "                focus_points.append(point)\n",
    "        return focus_points\n",
    "        # TODO implement something incase our desired ones were not found\n",
    " \n",
    "    # getAPinfo\n",
    "        # Description:\n",
    "            # Method returns all (or chosen) available access points (in range).\n",
    "            # Takes 2 optional parameters: \n",
    "            #   'networks' (array): \n",
    "            #       Lists all ssid's of concern. Will return only the available access \n",
    "            #       points listed here. If not provided, will return ALL access-points in range.        \n",
    "            #   'sudo' (bool): \n",
    "            #       Whether of not method should use sudo privileges. If user uses sudo\n",
    "            #       privileges, the network manager will be refreshed and will return \n",
    "            #       a fresh list of access-points available. If sudo is not provided, \n",
    "            #       a cached list will be returned. Cached list gets updated periodically.\n",
    "        # -----------------------------------------------\n",
    "        # Input: (Parsed array of cell dictionaries)\n",
    "            # networks = (array of network names)\n",
    "            # ['ucrwpa','dd-wrt']\n",
    "            # sudo = True || False\n",
    "        # -----------------------------------------------\n",
    "        # Returns: (Array of dictionaries)\n",
    "            # [\n",
    "            #     {\n",
    "            #         'ssid':'ucrwpa',\n",
    "            #         'quality':'43/70',\n",
    "            #         'signal':'-67'\n",
    "            #     },\n",
    "            #     {\n",
    "            #         'ssid':'dd-wrt',\n",
    "            #         'quality':'30/70',\n",
    "            #         'signal':'-42'\n",
    "            #     }\n",
    "            # ] \n",
    "    def getAPinfo(self, networks=False, sudo=False):\n",
    "        # TODO implement error callback if error is raise in subprocess\n",
    "        # Unparsed access-point listing. AccessPoints are strings.\n",
    "        raw_scan_output = self.getRawNetworkScan(sudo)['output']\n",
    "        \n",
    "        # Parsed access-point listing. Access-points are dictionaries.\n",
    "        all_access_points = self.formatCells(raw_scan_output)\n",
    "        # Checks if access-points were found.\n",
    "        if all_access_points:\n",
    "            # Checks if specific networks were declared.\n",
    "            if networks:\n",
    "                # Return specific access-points found.\n",
    "                return self.filterAccessPoints(all_access_points, networks)\n",
    "            else:\n",
    "                # Return ALL access-points found.\n",
    "                return all_access_points\n",
    "        else:\n",
    "            # No access-points were found. \n",
    "            return False\n"
   ]
  },
  {
   "cell_type": "code",
   "execution_count": 79,
   "metadata": {},
   "outputs": [],
   "source": [
    "rssi_scanner = RSSI_Scan(interface)"
   ]
  },
  {
   "cell_type": "code",
   "execution_count": 80,
   "metadata": {},
   "outputs": [
    {
     "data": {
      "text/plain": [
       "[{'ssid': 'Sahu_5GHz',\n",
       "  'quality': '49/70',\n",
       "  'signal': -61,\n",
       "  'mac': '78:17:35:C4:5E:DD',\n",
       "  'frequency': 5.24}]"
      ]
     },
     "execution_count": 80,
     "metadata": {},
     "output_type": "execute_result"
    }
   ],
   "source": [
    "rssi_scanner.getAPinfo()"
   ]
  },
  {
   "cell_type": "code",
   "execution_count": 49,
   "metadata": {},
   "outputs": [],
   "source": [
    "a = rssi_scanner.getRawNetworkScan()['output']"
   ]
  },
  {
   "cell_type": "code",
   "execution_count": null,
   "metadata": {},
   "outputs": [],
   "source": []
  },
  {
   "cell_type": "code",
   "execution_count": null,
   "metadata": {},
   "outputs": [],
   "source": []
  },
  {
   "cell_type": "code",
   "execution_count": null,
   "metadata": {},
   "outputs": [],
   "source": []
  },
  {
   "cell_type": "code",
   "execution_count": 1,
   "metadata": {},
   "outputs": [],
   "source": [
    "from src import point, vector, line, source\n",
    "import numpy as np"
   ]
  },
  {
   "cell_type": "code",
   "execution_count": 2,
   "metadata": {},
   "outputs": [],
   "source": [
    "sx, sy, sz = np.random.randint(0, 100, 1)[0], np.random.randint(0, 100, 1)[0],  np.random.randint(0, 100, 1)[0]"
   ]
  },
  {
   "cell_type": "code",
   "execution_count": 3,
   "metadata": {},
   "outputs": [],
   "source": [
    "wifi = source.Source(sx, sy, sz)"
   ]
  },
  {
   "cell_type": "code",
   "execution_count": 4,
   "metadata": {},
   "outputs": [],
   "source": [
    "initx, inity, initz = 0, 0, 0"
   ]
  },
  {
   "cell_type": "code",
   "execution_count": 5,
   "metadata": {},
   "outputs": [],
   "source": [
    "start = point.Point(initx, inity, initz)"
   ]
  },
  {
   "cell_type": "code",
   "execution_count": 6,
   "metadata": {
    "scrolled": true
   },
   "outputs": [
    {
     "name": "stdout",
     "output_type": "stream",
     "text": [
      "Intensity at x: 0, y: 0, z: 0, is I: 0.03005710850616171\n"
     ]
    },
    {
     "data": {
      "text/plain": [
       "0.03005710850616171"
      ]
     },
     "execution_count": 6,
     "metadata": {},
     "output_type": "execute_result"
    }
   ],
   "source": [
    "start.Intensity(wifi)"
   ]
  },
  {
   "cell_type": "code",
   "execution_count": 7,
   "metadata": {},
   "outputs": [],
   "source": [
    "init_p1, init_p2 = point.Point(initx, inity, initz), point.Point(1, 1, initz)"
   ]
  },
  {
   "cell_type": "code",
   "execution_count": 8,
   "metadata": {},
   "outputs": [],
   "source": [
    "init_line = line.Line(init_p1, init_p2, axis=2)"
   ]
  },
  {
   "cell_type": "code",
   "execution_count": 9,
   "metadata": {},
   "outputs": [
    {
     "data": {
      "text/plain": [
       "(1.0, 0.0)"
      ]
     },
     "execution_count": 9,
     "metadata": {},
     "output_type": "execute_result"
    }
   ],
   "source": [
    "init_line.slope_xy, init_line.intercept_xy"
   ]
  },
  {
   "cell_type": "code",
   "execution_count": 10,
   "metadata": {
    "scrolled": true
   },
   "outputs": [
    {
     "name": "stdout",
     "output_type": "stream",
     "text": [
      "Intensity at x: 0, y: 0, z: 0, is I: 0.03005710850616171\n",
      "Moved to x: 0.7071067811865476, y: 0.7071067811865475, z: 0\n",
      "Intensity at x: 0.7071067811865476, y: 0.7071067811865475, z: 0, is I: 0.031023641849232845\n",
      "Moved to x: 1.4142135623730951, y: 1.414213562373095, z: 0\n",
      "Intensity at x: 1.4142135623730951, y: 1.414213562373095, z: 0, is I: 0.03203386473830186\n",
      "Moved to x: 2.121320343559643, y: 2.1213203435596424, z: 0\n",
      "Intensity at x: 2.121320343559643, y: 2.1213203435596424, z: 0, is I: 0.03309018019089575\n",
      "Moved to x: 2.8284271247461903, y: 2.82842712474619, z: 0\n",
      "Intensity at x: 2.8284271247461903, y: 2.82842712474619, z: 0, is I: 0.034195132915983424\n",
      "Moved to x: 3.5355339059327378, y: 3.5355339059327373, z: 0\n",
      "Intensity at x: 3.5355339059327378, y: 3.5355339059327373, z: 0, is I: 0.03535141627992259\n",
      "Moved to x: 4.242640687119286, y: 4.242640687119285, z: 0\n",
      "Intensity at x: 4.242640687119286, y: 4.242640687119285, z: 0, is I: 0.036561879149375\n",
      "Moved to x: 4.949747468305834, y: 4.949747468305832, z: 0\n",
      "Intensity at x: 4.949747468305834, y: 4.949747468305832, z: 0, is I: 0.037829532470652634\n",
      "Moved to x: 5.6568542494923815, y: 5.65685424949238, z: 0\n",
      "Intensity at x: 5.6568542494923815, y: 5.65685424949238, z: 0, is I: 0.039157555408185905\n",
      "Moved to x: 6.363961030678929, y: 6.363961030678928, z: 0\n",
      "Intensity at x: 6.363961030678929, y: 6.363961030678928, z: 0, is I: 0.0405493008203747\n",
      "Moved to x: 7.071067811865477, y: 7.0710678118654755, z: 0\n",
      "Intensity at x: 7.071067811865477, y: 7.0710678118654755, z: 0, is I: 0.042008299797627484\n",
      "Moved to x: 7.778174593052025, y: 7.778174593052023, z: 0\n",
      "Intensity at x: 7.778174593052025, y: 7.778174593052023, z: 0, is I: 0.04353826492336735\n",
      "Moved to x: 8.485281374238573, y: 8.485281374238571, z: 0\n",
      "Intensity at x: 8.485281374238573, y: 8.485281374238571, z: 0, is I: 0.04514309184246165\n",
      "Moved to x: 9.192388155425121, y: 9.19238815542512, z: 0\n",
      "Intensity at x: 9.192388155425121, y: 9.19238815542512, z: 0, is I: 0.04682685863102758\n",
      "Moved to x: 9.899494936611669, y: 9.899494936611667, z: 0\n",
      "Intensity at x: 9.899494936611669, y: 9.899494936611667, z: 0, is I: 0.04859382235486225\n",
      "Moved to x: 10.606601717798217, y: 10.606601717798215, z: 0\n",
      "Intensity at x: 10.606601717798217, y: 10.606601717798215, z: 0, is I: 0.05044841207877521\n",
      "Moved to x: 11.313708498984765, y: 11.313708498984763, z: 0\n",
      "Intensity at x: 11.313708498984765, y: 11.313708498984763, z: 0, is I: 0.05239521744383965\n",
      "Moved to x: 12.020815280171313, y: 12.02081528017131, z: 0\n",
      "Intensity at x: 12.020815280171313, y: 12.02081528017131, z: 0, is I: 0.054438971762239906\n",
      "Moved to x: 12.72792206135786, y: 12.727922061357859, z: 0\n",
      "Intensity at x: 12.72792206135786, y: 12.727922061357859, z: 0, is I: 0.05658452838866937\n",
      "Moved to x: 13.435028842544408, y: 13.435028842544407, z: 0\n",
      "Intensity at x: 13.435028842544408, y: 13.435028842544407, z: 0, is I: 0.058836828912680425\n",
      "Moved to x: 14.142135623730956, y: 14.142135623730955, z: 0\n",
      "Intensity at x: 14.142135623730956, y: 14.142135623730955, z: 0, is I: 0.061200861478935754\n",
      "Moved to x: 14.849242404917504, y: 14.849242404917502, z: 0\n",
      "Intensity at x: 14.849242404917504, y: 14.849242404917502, z: 0, is I: 0.0636816072849741\n",
      "Moved to x: 15.556349186104052, y: 15.55634918610405, z: 0\n",
      "Intensity at x: 15.556349186104052, y: 15.55634918610405, z: 0, is I: 0.0662839730349206\n",
      "Moved to x: 16.2634559672906, y: 16.263455967290597, z: 0\n",
      "Intensity at x: 16.2634559672906, y: 16.263455967290597, z: 0, is I: 0.06901270685282906\n",
      "Moved to x: 16.970562748477146, y: 16.970562748477143, z: 0\n",
      "Intensity at x: 16.970562748477146, y: 16.970562748477143, z: 0, is I: 0.07187229489710395\n",
      "Moved to x: 17.677669529663692, y: 17.67766952966369, z: 0\n",
      "Intensity at x: 17.677669529663692, y: 17.67766952966369, z: 0, is I: 0.0748668356914365\n",
      "Moved to x: 18.38477631085024, y: 18.384776310850235, z: 0\n",
      "Intensity at x: 18.38477631085024, y: 18.384776310850235, z: 0, is I: 0.07799988903147288\n",
      "Moved to x: 19.091883092036785, y: 19.09188309203678, z: 0\n",
      "Intensity at x: 19.091883092036785, y: 19.09188309203678, z: 0, is I: 0.08127429628584149\n",
      "Moved to x: 19.79898987322333, y: 19.798989873223327, z: 0\n",
      "Intensity at x: 19.79898987322333, y: 19.798989873223327, z: 0, is I: 0.08469196904573616\n",
      "Moved to x: 20.506096654409877, y: 20.506096654409873, z: 0\n",
      "Intensity at x: 20.506096654409877, y: 20.506096654409873, z: 0, is I: 0.08825364346628282\n",
      "Moved to x: 21.213203435596423, y: 21.21320343559642, z: 0\n",
      "Intensity at x: 21.213203435596423, y: 21.21320343559642, z: 0, is I: 0.09195859838060019\n",
      "Moved to x: 21.92031021678297, y: 21.920310216782966, z: 0\n",
      "Intensity at x: 21.92031021678297, y: 21.920310216782966, z: 0, is I: 0.09580433646605982\n",
      "Moved to x: 22.627416997969515, y: 22.62741699796951, z: 0\n",
      "Intensity at x: 22.627416997969515, y: 22.62741699796951, z: 0, is I: 0.09978622952707693\n",
      "Moved to x: 23.33452377915606, y: 23.334523779156058, z: 0\n",
      "Intensity at x: 23.33452377915606, y: 23.334523779156058, z: 0, is I: 0.10389713145925415\n",
      "Moved to x: 24.041630560342607, y: 24.041630560342604, z: 0\n",
      "Intensity at x: 24.041630560342607, y: 24.041630560342604, z: 0, is I: 0.10812696579352458\n",
      "Moved to x: 24.748737341529154, y: 24.74873734152915, z: 0\n",
      "Intensity at x: 24.748737341529154, y: 24.74873734152915, z: 0, is I: 0.1124622989671347\n",
      "Moved to x: 25.4558441227157, y: 25.455844122715696, z: 0\n",
      "Intensity at x: 25.4558441227157, y: 25.455844122715696, z: 0, is I: 0.1168859156398191\n",
      "Moved to x: 26.162950903902246, y: 26.162950903902242, z: 0\n",
      "Intensity at x: 26.162950903902246, y: 26.162950903902242, z: 0, is I: 0.1213764183590031\n",
      "Moved to x: 26.870057685088792, y: 26.87005768508879, z: 0\n",
      "Intensity at x: 26.870057685088792, y: 26.87005768508879, z: 0, is I: 0.12590788039518871\n",
      "Moved to x: 27.577164466275338, y: 27.577164466275335, z: 0\n",
      "Intensity at x: 27.577164466275338, y: 27.577164466275335, z: 0, is I: 0.1304495871069567\n",
      "Moved to x: 28.284271247461884, y: 28.28427124746188, z: 0\n",
      "Intensity at x: 28.284271247461884, y: 28.28427124746188, z: 0, is I: 0.13496590696985133\n",
      "Moved to x: 28.99137802864843, y: 28.991378028648427, z: 0\n",
      "Intensity at x: 28.99137802864843, y: 28.991378028648427, z: 0, is I: 0.13941633734267728\n",
      "Moved to x: 29.698484809834977, y: 29.698484809834973, z: 0\n",
      "Intensity at x: 29.698484809834977, y: 29.698484809834973, z: 0, is I: 0.14375577082994184\n",
      "Moved to x: 30.405591591021523, y: 30.40559159102152, z: 0\n",
      "Intensity at x: 30.405591591021523, y: 30.40559159102152, z: 0, is I: 0.14793502428890457\n",
      "Moved to x: 31.11269837220807, y: 31.112698372208065, z: 0\n",
      "Intensity at x: 31.11269837220807, y: 31.112698372208065, z: 0, is I: 0.1519016627843887\n",
      "Moved to x: 31.819805153394615, y: 31.81980515339461, z: 0\n",
      "Intensity at x: 31.819805153394615, y: 31.81980515339461, z: 0, is I: 0.15560113420233265\n",
      "Moved to x: 32.526911934581165, y: 32.52691193458116, z: 0\n",
      "Intensity at x: 32.526911934581165, y: 32.52691193458116, z: 0, is I: 0.15897820670236015\n",
      "Moved to x: 33.23401871576771, y: 33.234018715767704, z: 0\n",
      "Intensity at x: 33.23401871576771, y: 33.234018715767704, z: 0, is I: 0.1619786718297183\n",
      "Moved to x: 33.94112549695426, y: 33.94112549695425, z: 0\n",
      "Intensity at x: 33.94112549695426, y: 33.94112549695425, z: 0, is I: 0.1645512434767663\n",
      "Moved to x: 34.6482322781408, y: 34.648232278140796, z: 0\n",
      "Intensity at x: 34.6482322781408, y: 34.648232278140796, z: 0, is I: 0.16664955097031917\n",
      "Moved to x: 35.35533905932735, y: 35.35533905932734, z: 0\n",
      "Intensity at x: 35.35533905932735, y: 35.35533905932734, z: 0, is I: 0.1682340983722284\n",
      "Moved to x: 36.062445840513895, y: 36.06244584051389, z: 0\n",
      "Intensity at x: 36.062445840513895, y: 36.06244584051389, z: 0, is I: 0.169274046832473\n",
      "Moved to x: 36.76955262170044, y: 36.769552621700434, z: 0\n",
      "Intensity at x: 36.76955262170044, y: 36.769552621700434, z: 0, is I: 0.16974867683449407\n",
      "Moved to x: 37.47665940288699, y: 37.47665940288698, z: 0\n",
      "Intensity at x: 37.47665940288699, y: 37.47665940288698, z: 0, is I: 0.16964840465959918\n",
      "Moved to x: 37.240957142491474, y: 37.24095714249147, z: 0\n",
      "Intensity at x: 37.240957142491474, y: 37.24095714249147, z: 0, is I: 0.1697458217287267\n",
      "Moved to x: 37.00525488209596, y: 37.005254882095954, z: 0\n",
      "Intensity at x: 37.00525488209596, y: 37.005254882095954, z: 0, is I: 0.16977927100764545\n",
      "Moved to x: 36.76955262170045, y: 36.76955262170044, z: 0\n",
      "Intensity at x: 36.76955262170045, y: 36.76955262170044, z: 0, is I: 0.16974867683449407\n",
      "Moved to x: 36.84812004183229, y: 36.84812004183228, z: 0\n",
      "Intensity at x: 36.84812004183229, y: 36.84812004183228, z: 0, is I: 0.16976598953940092\n",
      "Moved to x: 36.92668746196413, y: 36.92668746196412, z: 0\n",
      "Intensity at x: 36.92668746196413, y: 36.92668746196412, z: 0, is I: 0.16977618845204281\n",
      "Moved to x: 37.00525488209597, y: 37.00525488209596, z: 0\n",
      "Intensity at x: 37.00525488209597, y: 37.00525488209596, z: 0, is I: 0.16977927100764545\n"
     ]
    }
   ],
   "source": [
    "interation = 100\n",
    "found = False\n",
    "counter = 0\n",
    "step = 1\n",
    "\n",
    "inten1 = start.Intensity(wifi)\n",
    "while found is False and counter < interation:\n",
    "    \n",
    "    \n",
    "    start.MoveAlongLine_xy(init_line, step)\n",
    "    inten2 = start.Intensity(wifi)\n",
    "    \n",
    "    if inten2 < inten1:\n",
    "        step = -step/3\n",
    "    \n",
    "    if abs((inten2 - inten1) *100 / inten1) < 0.005:\n",
    "        found = True\n",
    "        \n",
    "    inten1, inten2 = inten2, None\n",
    "    \n",
    "        \n",
    "    "
   ]
  },
  {
   "cell_type": "code",
   "execution_count": 11,
   "metadata": {},
   "outputs": [],
   "source": [
    "new_direction = init_line.GetPerpendicularFromPoint(start, axis=2)"
   ]
  },
  {
   "cell_type": "code",
   "execution_count": 12,
   "metadata": {},
   "outputs": [
    {
     "data": {
      "text/plain": [
       "(-1.0, 74.01050976419194)"
      ]
     },
     "execution_count": 12,
     "metadata": {},
     "output_type": "execute_result"
    }
   ],
   "source": [
    "new_direction.slope_xy, new_direction.intercept_xy"
   ]
  },
  {
   "cell_type": "code",
   "execution_count": 13,
   "metadata": {},
   "outputs": [
    {
     "name": "stdout",
     "output_type": "stream",
     "text": [
      "Moved to x: 0, y: 0, z: 0\n"
     ]
    }
   ],
   "source": [
    "start.Goto(initx, inity, initz)"
   ]
  },
  {
   "cell_type": "code",
   "execution_count": 14,
   "metadata": {
    "scrolled": true
   },
   "outputs": [
    {
     "name": "stdout",
     "output_type": "stream",
     "text": [
      "Intensity at x: 0, y: 0, z: 0, is I: 0.03005710850616171\n",
      "Moved to x: 0.7071067811865476, y: -0.7071067811865475, z: 0\n",
      "Intensity at x: 0.7071067811865476, y: -0.7071067811865475, z: 0, is I: 0.030409907117223297\n",
      "Moved to x: 1.4142135623730951, y: -1.414213562373095, z: 0\n",
      "Intensity at x: 1.4142135623730951, y: -1.414213562373095, z: 0, is I: 0.03075216057127642\n",
      "Moved to x: 2.121320343559643, y: -2.1213203435596424, z: 0\n",
      "Intensity at x: 2.121320343559643, y: -2.1213203435596424, z: 0, is I: 0.031082870699415663\n",
      "Moved to x: 2.8284271247461903, y: -2.82842712474619, z: 0\n",
      "Intensity at x: 2.8284271247461903, y: -2.82842712474619, z: 0, is I: 0.03140103819875777\n",
      "Moved to x: 3.5355339059327378, y: -3.5355339059327373, z: 0\n",
      "Intensity at x: 3.5355339059327378, y: -3.5355339059327373, z: 0, is I: 0.031705668906958986\n",
      "Moved to x: 4.242640687119286, y: -4.242640687119285, z: 0\n",
      "Intensity at x: 4.242640687119286, y: -4.242640687119285, z: 0, is I: 0.031995780432093605\n",
      "Moved to x: 4.949747468305834, y: -4.949747468305832, z: 0\n",
      "Intensity at x: 4.949747468305834, y: -4.949747468305832, z: 0, is I: 0.03227040907420285\n",
      "Moved to x: 5.6568542494923815, y: -5.65685424949238, z: 0\n",
      "Intensity at x: 5.6568542494923815, y: -5.65685424949238, z: 0, is I: 0.03252861696427296\n",
      "Moved to x: 6.363961030678929, y: -6.363961030678928, z: 0\n",
      "Intensity at x: 6.363961030678929, y: -6.363961030678928, z: 0, is I: 0.03276949933665052\n",
      "Moved to x: 7.071067811865477, y: -7.0710678118654755, z: 0\n",
      "Intensity at x: 7.071067811865477, y: -7.0710678118654755, z: 0, is I: 0.03299219184232002\n",
      "Moved to x: 7.778174593052025, y: -7.778174593052023, z: 0\n",
      "Intensity at x: 7.778174593052025, y: -7.778174593052023, z: 0, is I: 0.03319587780341557\n",
      "Moved to x: 8.485281374238573, y: -8.485281374238571, z: 0\n",
      "Intensity at x: 8.485281374238573, y: -8.485281374238571, z: 0, is I: 0.03337979530415887\n",
      "Moved to x: 9.192388155425121, y: -9.19238815542512, z: 0\n",
      "Intensity at x: 9.192388155425121, y: -9.19238815542512, z: 0, is I: 0.03354324401041435\n",
      "Moved to x: 9.899494936611669, y: -9.899494936611667, z: 0\n",
      "Intensity at x: 9.899494936611669, y: -9.899494936611667, z: 0, is I: 0.033685591609477185\n",
      "Moved to x: 10.606601717798217, y: -10.606601717798215, z: 0\n",
      "Intensity at x: 10.606601717798217, y: -10.606601717798215, z: 0, is I: 0.03380627976374163\n",
      "Moved to x: 11.313708498984765, y: -11.313708498984763, z: 0\n",
      "Intensity at x: 11.313708498984765, y: -11.313708498984763, z: 0, is I: 0.03390482947662724\n",
      "Moved to x: 12.020815280171313, y: -12.02081528017131, z: 0\n",
      "Intensity at x: 12.020815280171313, y: -12.02081528017131, z: 0, is I: 0.03398084577656815\n",
      "Moved to x: 12.72792206135786, y: -12.727922061357859, z: 0\n",
      "Intensity at x: 12.72792206135786, y: -12.727922061357859, z: 0, is I: 0.03403402163489328\n",
      "Moved to x: 13.435028842544408, y: -13.435028842544407, z: 0\n",
      "Intensity at x: 13.435028842544408, y: -13.435028842544407, z: 0, is I: 0.03406414104583807\n",
      "Moved to x: 14.142135623730956, y: -14.142135623730955, z: 0\n",
      "Intensity at x: 14.142135623730956, y: -14.142135623730955, z: 0, is I: 0.0340710812114284\n",
      "Moved to x: 14.849242404917504, y: -14.849242404917502, z: 0\n",
      "Intensity at x: 14.849242404917504, y: -14.849242404917502, z: 0, is I: 0.03405481379017507\n",
      "Moved to x: 14.613540144521988, y: -14.613540144521986, z: 0\n",
      "Intensity at x: 14.613540144521988, y: -14.613540144521986, z: 0, is I: 0.03406281273186004\n",
      "Moved to x: 14.377837884126471, y: -14.37783788412647, z: 0\n",
      "Intensity at x: 14.377837884126471, y: -14.37783788412647, z: 0, is I: 0.034068236026342506\n",
      "Moved to x: 14.142135623730955, y: -14.142135623730953, z: 0\n",
      "Intensity at x: 14.142135623730955, y: -14.142135623730953, z: 0, is I: 0.03407108121142839\n",
      "Moved to x: 13.906433363335438, y: -13.906433363335436, z: 0\n",
      "Intensity at x: 13.906433363335438, y: -13.906433363335436, z: 0, is I: 0.03407134699492366\n"
     ]
    }
   ],
   "source": [
    "interation = 100\n",
    "found = False\n",
    "counter = 0\n",
    "step = 1\n",
    "\n",
    "inten1 = start.Intensity(wifi)\n",
    "while found is False and counter < interation:\n",
    "    \n",
    "    \n",
    "    start.MoveAlongLine_xy(new_direction, step)\n",
    "    inten2 = start.Intensity(wifi)\n",
    "    \n",
    "    if inten2 < inten1:\n",
    "        step = -step/3\n",
    "    \n",
    "    if abs((inten2 - inten1) *100 / inten1) < 0.005:\n",
    "        found = True\n",
    "        \n",
    "    inten1, inten2 = inten2, None\n",
    "    \n",
    "        \n",
    "    "
   ]
  },
  {
   "cell_type": "code",
   "execution_count": 15,
   "metadata": {},
   "outputs": [],
   "source": [
    "new_direction_2 = new_direction.GetPerpendicularFromPoint(start, axis=2)"
   ]
  },
  {
   "cell_type": "code",
   "execution_count": 16,
   "metadata": {},
   "outputs": [],
   "source": [
    "wifi_prediction = line.Line.IntersectLine(new_direction, new_direction_2, axis=2)"
   ]
  },
  {
   "cell_type": "code",
   "execution_count": 17,
   "metadata": {},
   "outputs": [
    {
     "data": {
      "text/plain": [
       "(51.0, 23.0)"
      ]
     },
     "execution_count": 17,
     "metadata": {},
     "output_type": "execute_result"
    }
   ],
   "source": [
    "px = round(wifi_prediction.x, 0)\n",
    "py1 = round(wifi_prediction.y, 0)\n",
    "px, py1"
   ]
  },
  {
   "cell_type": "code",
   "execution_count": 18,
   "metadata": {},
   "outputs": [
    {
     "data": {
      "text/plain": [
       "(51, 23, 14)"
      ]
     },
     "execution_count": 18,
     "metadata": {},
     "output_type": "execute_result"
    }
   ],
   "source": [
    "wifi.x, wifi.y, wifi.z"
   ]
  },
  {
   "cell_type": "code",
   "execution_count": 19,
   "metadata": {},
   "outputs": [],
   "source": [
    "init_p1, init_p3 = point.Point(0, inity, initz), point.Point(0, 1, 1)"
   ]
  },
  {
   "cell_type": "code",
   "execution_count": 20,
   "metadata": {},
   "outputs": [],
   "source": [
    "init_line_2 = line.Line(init_p1, init_p3, axis=3)"
   ]
  },
  {
   "cell_type": "code",
   "execution_count": 21,
   "metadata": {},
   "outputs": [
    {
     "data": {
      "text/plain": [
       "(1.0, 0.0)"
      ]
     },
     "execution_count": 21,
     "metadata": {},
     "output_type": "execute_result"
    }
   ],
   "source": [
    "init_line_2.slope_yz, init_line_2.intercept_yz"
   ]
  },
  {
   "cell_type": "code",
   "execution_count": 22,
   "metadata": {
    "scrolled": true
   },
   "outputs": [
    {
     "name": "stdout",
     "output_type": "stream",
     "text": [
      "Intensity at x: 13.906433363335438, y: -13.906433363335436, z: 0, is I: 0.03407134699492366\n",
      "Moved to x: 13.906433363335438, y: -13.199326582148888, z: 0.7071067811865475\n",
      "Intensity at x: 13.906433363335438, y: -13.199326582148888, z: 0.7071067811865475, is I: 0.03491589705451454\n",
      "Moved to x: 13.906433363335438, y: -12.49221980096234, z: 1.414213562373095\n",
      "Intensity at x: 13.906433363335438, y: -12.49221980096234, z: 1.414213562373095, is I: 0.03577776092489325\n",
      "Moved to x: 13.906433363335438, y: -11.785113019775793, z: 2.1213203435596424\n",
      "Intensity at x: 13.906433363335438, y: -11.785113019775793, z: 2.1213203435596424, is I: 0.0366563566459319\n",
      "Moved to x: 13.906433363335438, y: -11.078006238589245, z: 2.82842712474619\n",
      "Intensity at x: 13.906433363335438, y: -11.078006238589245, z: 2.82842712474619, is I: 0.037550967427726185\n",
      "Moved to x: 13.906433363335438, y: -10.370899457402697, z: 3.5355339059327373\n",
      "Intensity at x: 13.906433363335438, y: -10.370899457402697, z: 3.5355339059327373, is I: 0.038460729794241956\n",
      "Moved to x: 13.906433363335438, y: -9.663792676216149, z: 4.242640687119285\n",
      "Intensity at x: 13.906433363335438, y: -9.663792676216149, z: 4.242640687119285, is I: 0.03938462161116976\n",
      "Moved to x: 13.906433363335438, y: -8.9566858950296, z: 4.949747468305832\n",
      "Intensity at x: 13.906433363335438, y: -8.9566858950296, z: 4.949747468305832, is I: 0.04032145017949434\n",
      "Moved to x: 13.906433363335438, y: -8.249579113843053, z: 5.65685424949238\n",
      "Intensity at x: 13.906433363335438, y: -8.249579113843053, z: 5.65685424949238, is I: 0.04126984061311638\n",
      "Moved to x: 13.906433363335438, y: -7.542472332656505, z: 6.363961030678928\n",
      "Intensity at x: 13.906433363335438, y: -7.542472332656505, z: 6.363961030678928, is I: 0.0422282247578715\n",
      "Moved to x: 13.906433363335438, y: -6.835365551469957, z: 7.0710678118654755\n",
      "Intensity at x: 13.906433363335438, y: -6.835365551469957, z: 7.0710678118654755, is I: 0.04319483094954604\n",
      "Moved to x: 13.906433363335438, y: -6.128258770283409, z: 7.778174593052023\n",
      "Intensity at x: 13.906433363335438, y: -6.128258770283409, z: 7.778174593052023, is I: 0.04416767494871914\n",
      "Moved to x: 13.906433363335438, y: -5.421151989096861, z: 8.485281374238571\n",
      "Intensity at x: 13.906433363335438, y: -5.421151989096861, z: 8.485281374238571, is I: 0.045144552428825376\n",
      "Moved to x: 13.906433363335438, y: -4.7140452079103135, z: 9.19238815542512\n",
      "Intensity at x: 13.906433363335438, y: -4.7140452079103135, z: 9.19238815542512, is I: 0.046123033428701055\n",
      "Moved to x: 13.906433363335438, y: -4.0069384267237655, z: 9.899494936611667\n",
      "Intensity at x: 13.906433363335438, y: -4.0069384267237655, z: 9.899494936611667, is I: 0.04710045920963224\n",
      "Moved to x: 13.906433363335438, y: -3.299831645537218, z: 10.606601717798215\n",
      "Intensity at x: 13.906433363335438, y: -3.299831645537218, z: 10.606601717798215, is I: 0.048073941976790546\n",
      "Moved to x: 13.906433363335438, y: -2.5927248643506706, z: 11.313708498984763\n",
      "Intensity at x: 13.906433363335438, y: -2.5927248643506706, z: 11.313708498984763, is I: 0.04904036793287005\n",
      "Moved to x: 13.906433363335438, y: -1.8856180831641232, z: 12.02081528017131\n",
      "Intensity at x: 13.906433363335438, y: -1.8856180831641232, z: 12.02081528017131, is I: 0.04999640412450044\n",
      "Moved to x: 13.906433363335438, y: -1.1785113019775757, z: 12.727922061357859\n",
      "Intensity at x: 13.906433363335438, y: -1.1785113019775757, z: 12.727922061357859, is I: 0.050938509516389736\n",
      "Moved to x: 13.906433363335438, y: -0.4714045207910281, z: 13.435028842544407\n",
      "Intensity at x: 13.906433363335438, y: -0.4714045207910281, z: 13.435028842544407, is I: 0.051862950681144306\n",
      "Moved to x: 13.906433363335438, y: 0.23570226039551945, z: 14.142135623730955\n",
      "Intensity at x: 13.906433363335438, y: 0.23570226039551945, z: 14.142135623730955, is I: 0.05276582242181846\n",
      "Moved to x: 13.906433363335438, y: 0.942809041582067, z: 14.849242404917502\n",
      "Intensity at x: 13.906433363335438, y: 0.942809041582067, z: 14.849242404917502, is I: 0.053643073547760003\n",
      "Moved to x: 13.906433363335438, y: 1.6499158227686146, z: 15.55634918610405\n",
      "Intensity at x: 13.906433363335438, y: 1.6499158227686146, z: 15.55634918610405, is I: 0.05449053790167299\n",
      "Moved to x: 13.906433363335438, y: 2.357022603955162, z: 16.263455967290597\n",
      "Intensity at x: 13.906433363335438, y: 2.357022603955162, z: 16.263455967290597, is I: 0.05530397058791492\n",
      "Moved to x: 13.906433363335438, y: 3.0641293851417095, z: 16.970562748477143\n",
      "Intensity at x: 13.906433363335438, y: 3.0641293851417095, z: 16.970562748477143, is I: 0.05607908918153033\n",
      "Moved to x: 13.906433363335438, y: 3.771236166328257, z: 17.67766952966369\n",
      "Intensity at x: 13.906433363335438, y: 3.771236166328257, z: 17.67766952966369, is I: 0.0568116195090061\n",
      "Moved to x: 13.906433363335438, y: 4.478342947514805, z: 18.384776310850235\n",
      "Intensity at x: 13.906433363335438, y: 4.478342947514805, z: 18.384776310850235, is I: 0.0574973453918663\n",
      "Moved to x: 13.906433363335438, y: 5.185449728701353, z: 19.09188309203678\n",
      "Intensity at x: 13.906433363335438, y: 5.185449728701353, z: 19.09188309203678, is I: 0.0581321615416165\n",
      "Moved to x: 13.906433363335438, y: 5.892556509887901, z: 19.798989873223327\n",
      "Intensity at x: 13.906433363335438, y: 5.892556509887901, z: 19.798989873223327, is I: 0.05871212859948606\n",
      "Moved to x: 13.906433363335438, y: 6.599663291074449, z: 20.506096654409873\n",
      "Intensity at x: 13.906433363335438, y: 6.599663291074449, z: 20.506096654409873, is I: 0.05923352913837348\n",
      "Moved to x: 13.906433363335438, y: 7.3067700722609965, z: 21.21320343559642\n",
      "Intensity at x: 13.906433363335438, y: 7.3067700722609965, z: 21.21320343559642, is I: 0.05969292329932959\n",
      "Moved to x: 13.906433363335438, y: 8.013876853447544, z: 21.920310216782966\n",
      "Intensity at x: 13.906433363335438, y: 8.013876853447544, z: 21.920310216782966, is I: 0.06008720263238108\n",
      "Moved to x: 13.906433363335438, y: 8.720983634634091, z: 22.62741699796951\n",
      "Intensity at x: 13.906433363335438, y: 8.720983634634091, z: 22.62741699796951, is I: 0.06041364066170156\n",
      "Moved to x: 13.906433363335438, y: 9.42809041582064, z: 23.334523779156058\n",
      "Intensity at x: 13.906433363335438, y: 9.42809041582064, z: 23.334523779156058, is I: 0.060669938705916374\n",
      "Moved to x: 13.906433363335438, y: 10.135197197007187, z: 24.041630560342604\n",
      "Intensity at x: 13.906433363335438, y: 10.135197197007187, z: 24.041630560342604, is I: 0.06085426556024523\n",
      "Moved to x: 13.906433363335438, y: 10.842303978193735, z: 24.74873734152915\n",
      "Intensity at x: 13.906433363335438, y: 10.842303978193735, z: 24.74873734152915, is I: 0.06096528978884463\n",
      "Moved to x: 13.906433363335438, y: 11.549410759380283, z: 25.455844122715696\n",
      "Intensity at x: 13.906433363335438, y: 11.549410759380283, z: 25.455844122715696, is I: 0.061002203579335154\n",
      "Moved to x: 13.906433363335438, y: 12.256517540566831, z: 26.162950903902242\n",
      "Intensity at x: 13.906433363335438, y: 12.256517540566831, z: 26.162950903902242, is I: 0.06096473736893891\n",
      "Moved to x: 13.906433363335438, y: 12.020815280171314, z: 25.927248643506726\n",
      "Intensity at x: 13.906433363335438, y: 12.020815280171314, z: 25.927248643506726, is I: 0.06098548482534233\n",
      "Moved to x: 13.906433363335438, y: 11.785113019775798, z: 25.69154638311121\n",
      "Intensity at x: 13.906433363335438, y: 11.785113019775798, z: 25.69154638311121, is I: 0.06099797694669903\n",
      "Moved to x: 13.906433363335438, y: 11.549410759380281, z: 25.455844122715693\n",
      "Intensity at x: 13.906433363335438, y: 11.549410759380281, z: 25.455844122715693, is I: 0.061002203579335154\n",
      "Moved to x: 13.906433363335438, y: 11.313708498984765, z: 25.220141862320176\n",
      "Intensity at x: 13.906433363335438, y: 11.313708498984765, z: 25.220141862320176, is I: 0.06099816128640498\n",
      "Moved to x: 13.906433363335438, y: 11.392275919116603, z: 25.298709282452016\n",
      "Intensity at x: 13.906433363335438, y: 11.392275919116603, z: 25.298709282452016, is I: 0.06100042742232495\n"
     ]
    }
   ],
   "source": [
    "interation = 100\n",
    "found = False\n",
    "counter = 0\n",
    "step = 1\n",
    "\n",
    "inten1 = start.Intensity(wifi)\n",
    "while found is False and counter < interation:\n",
    "    \n",
    "    \n",
    "    start.MoveAlongLine_yz(init_line_2, step)\n",
    "    inten2 = start.Intensity(wifi)\n",
    "    \n",
    "    if inten2 < inten1:\n",
    "        step = -step/3\n",
    "    \n",
    "    if abs((inten2 - inten1) *100 / inten1) < 0.005:\n",
    "        found = True\n",
    "        \n",
    "    inten1, inten2 = inten2, None\n",
    "    \n",
    "        \n",
    "    "
   ]
  },
  {
   "cell_type": "code",
   "execution_count": null,
   "metadata": {},
   "outputs": [],
   "source": []
  },
  {
   "cell_type": "code",
   "execution_count": 23,
   "metadata": {},
   "outputs": [],
   "source": [
    "new_direction = init_line_2.GetPerpendicularFromPoint(start, axis=3)"
   ]
  },
  {
   "cell_type": "code",
   "execution_count": 24,
   "metadata": {},
   "outputs": [
    {
     "data": {
      "text/plain": [
       "(-1.0, 36.69098520156862)"
      ]
     },
     "execution_count": 24,
     "metadata": {},
     "output_type": "execute_result"
    }
   ],
   "source": [
    "new_direction.slope_yz, new_direction.intercept_yz"
   ]
  },
  {
   "cell_type": "code",
   "execution_count": 25,
   "metadata": {},
   "outputs": [
    {
     "name": "stdout",
     "output_type": "stream",
     "text": [
      "Moved to x: 0, y: 0, z: 0\n"
     ]
    }
   ],
   "source": [
    "start.Goto(initx, inity, initz)"
   ]
  },
  {
   "cell_type": "code",
   "execution_count": 26,
   "metadata": {
    "scrolled": true
   },
   "outputs": [
    {
     "name": "stdout",
     "output_type": "stream",
     "text": [
      "Intensity at x: 0, y: 0, z: 0, is I: 0.03005710850616171\n",
      "Moved to x: 0, y: 0.7071067811865476, z: -0.7071067811865475\n",
      "Intensity at x: 0, y: 0.7071067811865476, z: -0.7071067811865475, is I: 0.03016343686101855\n",
      "Moved to x: 0, y: 1.4142135623730951, z: -1.414213562373095\n",
      "Intensity at x: 0, y: 1.4142135623730951, z: -1.414213562373095, is I: 0.0302522051693665\n",
      "Moved to x: 0, y: 2.121320343559643, z: -2.1213203435596424\n",
      "Intensity at x: 0, y: 2.121320343559643, z: -2.1213203435596424, is I: 0.03032309653115186\n",
      "Moved to x: 0, y: 2.8284271247461903, z: -2.82842712474619\n",
      "Intensity at x: 0, y: 2.8284271247461903, z: -2.82842712474619, is I: 0.030375855848989504\n",
      "Moved to x: 0, y: 3.5355339059327378, z: -3.5355339059327373\n",
      "Intensity at x: 0, y: 3.5355339059327378, z: -3.5355339059327373, is I: 0.030410292105887325\n",
      "Moved to x: 0, y: 4.242640687119286, z: -4.242640687119285\n",
      "Intensity at x: 0, y: 4.242640687119286, z: -4.242640687119285, is I: 0.030426280086027963\n",
      "Moved to x: 0, y: 4.949747468305834, z: -4.949747468305832\n",
      "Intensity at x: 0, y: 4.949747468305834, z: -4.949747468305832, is I: 0.03042376150982608\n",
      "Moved to x: 0, y: 4.714045207910318, z: -4.714045207910316\n",
      "Intensity at x: 0, y: 4.714045207910318, z: -4.714045207910316, is I: 0.030426658142082195\n",
      "Moved to x: 0, y: 4.478342947514802, z: -4.4783429475148\n",
      "Intensity at x: 0, y: 4.478342947514802, z: -4.4783429475148, is I: 0.030427497781015632\n"
     ]
    }
   ],
   "source": [
    "interation = 100\n",
    "found = False\n",
    "counter = 0\n",
    "step = 1\n",
    "\n",
    "inten1 = start.Intensity(wifi)\n",
    "while found is False and counter < interation:\n",
    "    \n",
    "    \n",
    "    start.MoveAlongLine_yz(new_direction, step)\n",
    "    inten2 = start.Intensity(wifi)\n",
    "    \n",
    "    if inten2 < inten1:\n",
    "        step = -step/3\n",
    "    \n",
    "    if abs((inten2 - inten1) *100 / inten1) < 0.005:\n",
    "        found = True\n",
    "        \n",
    "    inten1, inten2 = inten2, None\n",
    "    \n",
    "        \n",
    "    "
   ]
  },
  {
   "cell_type": "code",
   "execution_count": 27,
   "metadata": {},
   "outputs": [],
   "source": [
    "new_direction_2 = new_direction.GetPerpendicularFromPoint(start, axis=3)"
   ]
  },
  {
   "cell_type": "code",
   "execution_count": 28,
   "metadata": {},
   "outputs": [],
   "source": [
    "wifi_prediction = line.Line.IntersectLine(new_direction, new_direction_2, axis=3)"
   ]
  },
  {
   "cell_type": "code",
   "execution_count": 29,
   "metadata": {},
   "outputs": [],
   "source": [
    "py2 = round(wifi_prediction.y, 0)\n",
    "pz = round(wifi_prediction.z, 0)"
   ]
  },
  {
   "cell_type": "code",
   "execution_count": 30,
   "metadata": {},
   "outputs": [
    {
     "data": {
      "text/plain": [
       "(51.0, 23.0, 23.0, 14.0)"
      ]
     },
     "execution_count": 30,
     "metadata": {},
     "output_type": "execute_result"
    }
   ],
   "source": [
    "px, py1, py2, pz"
   ]
  },
  {
   "cell_type": "code",
   "execution_count": 31,
   "metadata": {},
   "outputs": [
    {
     "data": {
      "text/plain": [
       "(51, 23, 14)"
      ]
     },
     "execution_count": 31,
     "metadata": {},
     "output_type": "execute_result"
    }
   ],
   "source": [
    "wifi.x, wifi.y, wifi.z"
   ]
  },
  {
   "cell_type": "code",
   "execution_count": null,
   "metadata": {},
   "outputs": [],
   "source": []
  },
  {
   "cell_type": "code",
   "execution_count": null,
   "metadata": {},
   "outputs": [],
   "source": []
  },
  {
   "cell_type": "code",
   "execution_count": null,
   "metadata": {},
   "outputs": [],
   "source": []
  }
 ],
 "metadata": {
  "kernelspec": {
   "display_name": "Python 3",
   "language": "python",
   "name": "python3"
  },
  "language_info": {
   "codemirror_mode": {
    "name": "ipython",
    "version": 3
   },
   "file_extension": ".py",
   "mimetype": "text/x-python",
   "name": "python",
   "nbconvert_exporter": "python",
   "pygments_lexer": "ipython3",
   "version": "3.6.9"
  }
 },
 "nbformat": 4,
 "nbformat_minor": 2
}
