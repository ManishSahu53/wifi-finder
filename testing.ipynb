{
 "cells": [
  {
   "cell_type": "code",
   "execution_count": 1,
   "metadata": {},
   "outputs": [],
   "source": [
    "import rssi\n",
    "import numpy as np\n",
    "\n",
    "interface = 'wlp1s0'\n",
    "rssi_scanner = rssi.RSSI_Scan(interface)"
   ]
  },
  {
   "cell_type": "code",
   "execution_count": 2,
   "metadata": {},
   "outputs": [],
   "source": [
    "from src import point, vector, line, source"
   ]
  },
  {
   "cell_type": "code",
   "execution_count": 3,
   "metadata": {},
   "outputs": [],
   "source": [
    "sx, sy, sz = np.random.randint(0, 100, 1)[0], np.random.randint(0, 100, 1)[0],  np.random.randint(0, 100, 1)[0]"
   ]
  },
  {
   "cell_type": "code",
   "execution_count": 4,
   "metadata": {},
   "outputs": [],
   "source": [
    "wifi = source.Source(sx, sy, sz)"
   ]
  },
  {
   "cell_type": "code",
   "execution_count": 5,
   "metadata": {},
   "outputs": [],
   "source": [
    "initx, inity, initz = 0, 0, 0"
   ]
  },
  {
   "cell_type": "code",
   "execution_count": 6,
   "metadata": {},
   "outputs": [],
   "source": [
    "start = point.Point(initx, inity, initz)"
   ]
  },
  {
   "cell_type": "code",
   "execution_count": 7,
   "metadata": {
    "scrolled": true
   },
   "outputs": [
    {
     "name": "stdout",
     "output_type": "stream",
     "text": [
      "Intensity at x: 0, y: 0, z: 0, is I: 0.017271157167530225\n"
     ]
    },
    {
     "data": {
      "text/plain": [
       "0.017271157167530225"
      ]
     },
     "execution_count": 7,
     "metadata": {},
     "output_type": "execute_result"
    }
   ],
   "source": [
    "start.Intensity(wifi)"
   ]
  },
  {
   "cell_type": "code",
   "execution_count": 8,
   "metadata": {},
   "outputs": [],
   "source": [
    "init_p1, init_p2 = point.Point(initx, inity, initz), point.Point(1, 1, initz)"
   ]
  },
  {
   "cell_type": "code",
   "execution_count": 9,
   "metadata": {},
   "outputs": [],
   "source": [
    "init_line = line.Line(init_p1, init_p2)"
   ]
  },
  {
   "cell_type": "code",
   "execution_count": 10,
   "metadata": {
    "scrolled": true
   },
   "outputs": [
    {
     "name": "stdout",
     "output_type": "stream",
     "text": [
      "Intensity at x: 0, y: 0, z: 0, is I: 0.017271157167530225\n",
      "Moved to x: 7.0710678118654755, y: 7.071067811865475, z: 0\n",
      "Intensity at x: 7.0710678118654755, y: 7.071067811865475, z: 0, is I: 0.019891275375052912\n",
      "Moved to x: 14.142135623730951, y: 14.14213562373095, z: 0\n",
      "Intensity at x: 14.142135623730951, y: 14.14213562373095, z: 0, is I: 0.022398124881067752\n",
      "Moved to x: 21.213203435596427, y: 21.213203435596423, z: 0\n",
      "Intensity at x: 21.213203435596427, y: 21.213203435596423, z: 0, is I: 0.024378416322176147\n",
      "Moved to x: 28.284271247461902, y: 28.2842712474619, z: 0\n",
      "Intensity at x: 28.284271247461902, y: 28.2842712474619, z: 0, is I: 0.025385098881370406\n",
      "Moved to x: 35.35533905932738, y: 35.35533905932737, z: 0\n",
      "Intensity at x: 35.35533905932738, y: 35.35533905932737, z: 0, is I: 0.02514680304562121\n",
      "Moved to x: 32.99831645537222, y: 32.99831645537221, z: 0\n",
      "Intensity at x: 32.99831645537222, y: 32.99831645537221, z: 0, is I: 0.025367941891633952\n",
      "Moved to x: 30.64129385141706, y: 30.641293851417053, z: 0\n",
      "Intensity at x: 30.64129385141706, y: 30.641293851417053, z: 0, is I: 0.025448271765829023\n",
      "Moved to x: 28.284271247461902, y: 28.284271247461895, z: 0\n",
      "Intensity at x: 28.284271247461902, y: 28.284271247461895, z: 0, is I: 0.025385098881370406\n",
      "Moved to x: 29.069945448780288, y: 29.06994544878028, z: 0\n",
      "Intensity at x: 29.069945448780288, y: 29.06994544878028, z: 0, is I: 0.025422069191689677\n",
      "Moved to x: 29.855619650098674, y: 29.855619650098667, z: 0\n",
      "Intensity at x: 29.855619650098674, y: 29.855619650098667, z: 0, is I: 0.025443153246138734\n",
      "Moved to x: 30.64129385141706, y: 30.641293851417053, z: 0\n",
      "Intensity at x: 30.64129385141706, y: 30.641293851417053, z: 0, is I: 0.025448271765829023\n",
      "Moved to x: 31.426968052735447, y: 31.42696805273544, z: 0\n",
      "Intensity at x: 31.426968052735447, y: 31.42696805273544, z: 0, is I: 0.02543740547470579\n",
      "Moved to x: 31.165076652295983, y: 31.165076652295976, z: 0\n",
      "Intensity at x: 31.165076652295983, y: 31.165076652295976, z: 0, is I: 0.02544280237319738\n",
      "Moved to x: 30.90318525185652, y: 30.903185251856513, z: 0\n",
      "Intensity at x: 30.90318525185652, y: 30.903185251856513, z: 0, is I: 0.025446424975803978\n",
      "Moved to x: 30.641293851417057, y: 30.64129385141705, z: 0\n",
      "Intensity at x: 30.641293851417057, y: 30.64129385141705, z: 0, is I: 0.025448271765829023\n",
      "Moved to x: 30.379402450977594, y: 30.379402450977587, z: 0\n",
      "Intensity at x: 30.379402450977594, y: 30.379402450977587, z: 0, is I: 0.025448341969816653\n"
     ]
    }
   ],
   "source": [
    "interation = 100\n",
    "found = False\n",
    "counter = 0\n",
    "step = 10\n",
    "\n",
    "inten1 = start.Intensity(wifi)\n",
    "while found is False and counter < interation:\n",
    "    \n",
    "    \n",
    "    start.MoveAlongLine_xy(init_line, step)\n",
    "    inten2 = start.Intensity(wifi)\n",
    "    \n",
    "    if inten2 < inten1:\n",
    "        step = -step/3\n",
    "    \n",
    "    if abs((inten2 - inten1) *100 / inten1) < 0.005:\n",
    "        found = True\n",
    "        \n",
    "    inten1, inten2 = inten2, None\n",
    "    \n",
    "        \n",
    "    "
   ]
  },
  {
   "cell_type": "code",
   "execution_count": 11,
   "metadata": {},
   "outputs": [],
   "source": [
    "new_direction = init_line.GetPerpendicularFromPoint(start, axis=2)"
   ]
  },
  {
   "cell_type": "code",
   "execution_count": 12,
   "metadata": {},
   "outputs": [
    {
     "data": {
      "text/plain": [
       "(-1.0, 60.75880490195518)"
      ]
     },
     "execution_count": 12,
     "metadata": {},
     "output_type": "execute_result"
    }
   ],
   "source": [
    "new_direction.slope_xy, new_direction.intercept_xy"
   ]
  },
  {
   "cell_type": "code",
   "execution_count": 13,
   "metadata": {},
   "outputs": [
    {
     "name": "stdout",
     "output_type": "stream",
     "text": [
      "Moved to x: 0, y: 0, z: 0\n"
     ]
    }
   ],
   "source": [
    "start.Goto(initx, inity, initz)"
   ]
  },
  {
   "cell_type": "code",
   "execution_count": 14,
   "metadata": {
    "scrolled": true
   },
   "outputs": [
    {
     "name": "stdout",
     "output_type": "stream",
     "text": [
      "Intensity at x: 0, y: 0, z: 0, is I: 0.017271157167530225\n",
      "Moved to x: 7.0710678118654755, y: -7.071067811865475, z: 0\n",
      "Intensity at x: 7.0710678118654755, y: -7.071067811865475, z: 0, is I: 0.01493406223858945\n",
      "Moved to x: 4.714045207910317, y: -4.714045207910316, z: 0\n",
      "Intensity at x: 4.714045207910317, y: -4.714045207910316, z: 0, is I: 0.015694040048474068\n",
      "Moved to x: 2.3570226039551585, y: -2.3570226039551576, z: 0\n",
      "Intensity at x: 2.3570226039551585, y: -2.3570226039551576, z: 0, is I: 0.016474975689661966\n",
      "Moved to x: 0.0, y: 8.881784197001252e-16, z: 0\n",
      "Intensity at x: 0.0, y: 8.881784197001252e-16, z: 0, is I: 0.017271157167530225\n",
      "Moved to x: -2.3570226039551585, y: 2.3570226039551594, z: 0\n",
      "Intensity at x: -2.3570226039551585, y: 2.3570226039551594, z: 0, is I: 0.018075303591578402\n",
      "Moved to x: -4.714045207910317, y: 4.714045207910318, z: 0\n",
      "Intensity at x: -4.714045207910317, y: 4.714045207910318, z: 0, is I: 0.01887845624648077\n",
      "Moved to x: -7.0710678118654755, y: 7.071067811865476, z: 0\n",
      "Intensity at x: -7.0710678118654755, y: 7.071067811865476, z: 0, is I: 0.019669945128715345\n",
      "Moved to x: -9.428090415820634, y: 9.428090415820634, z: 0\n",
      "Intensity at x: -9.428090415820634, y: 9.428090415820634, z: 0, is I: 0.020437461950397185\n",
      "Moved to x: -11.785113019775793, y: 11.785113019775793, z: 0\n",
      "Intensity at x: -11.785113019775793, y: 11.785113019775793, z: 0, is I: 0.02116726952893729\n",
      "Moved to x: -14.142135623730951, y: 14.142135623730951, z: 0\n",
      "Intensity at x: -14.142135623730951, y: 14.142135623730951, z: 0, is I: 0.021844570668521985\n",
      "Moved to x: -16.49915822768611, y: 16.49915822768611, z: 0\n",
      "Intensity at x: -16.49915822768611, y: 16.49915822768611, z: 0, is I: 0.022454045741745834\n",
      "Moved to x: -18.856180831641268, y: 18.856180831641268, z: 0\n",
      "Intensity at x: -18.856180831641268, y: 18.856180831641268, z: 0, is I: 0.02298054710131674\n",
      "Moved to x: -21.213203435596427, y: 21.213203435596427, z: 0\n",
      "Intensity at x: -21.213203435596427, y: 21.213203435596427, z: 0, is I: 0.02340991210437467\n",
      "Moved to x: -23.570226039551585, y: 23.570226039551585, z: 0\n",
      "Intensity at x: -23.570226039551585, y: 23.570226039551585, z: 0, is I: 0.02372982919744705\n",
      "Moved to x: -25.927248643506744, y: 25.927248643506744, z: 0\n",
      "Intensity at x: -25.927248643506744, y: 25.927248643506744, z: 0, is I: 0.023930669409959988\n",
      "Moved to x: -28.284271247461902, y: 28.284271247461902, z: 0\n",
      "Intensity at x: -28.284271247461902, y: 28.284271247461902, z: 0, is I: 0.0240061854656887\n",
      "Moved to x: -30.64129385141706, y: 30.64129385141706, z: 0\n",
      "Intensity at x: -30.64129385141706, y: 30.64129385141706, z: 0, is I: 0.023953987578331896\n",
      "Moved to x: -29.855619650098674, y: 29.855619650098674, z: 0\n",
      "Intensity at x: -29.855619650098674, y: 29.855619650098674, z: 0, is I: 0.02398555833789547\n",
      "Moved to x: -29.069945448780288, y: 29.069945448780288, z: 0\n",
      "Intensity at x: -29.069945448780288, y: 29.069945448780288, z: 0, is I: 0.02400297823790933\n",
      "Moved to x: -28.284271247461902, y: 28.284271247461902, z: 0\n",
      "Intensity at x: -28.284271247461902, y: 28.284271247461902, z: 0, is I: 0.0240061854656887\n",
      "Moved to x: -27.498597046143516, y: 27.498597046143516, z: 0\n",
      "Intensity at x: -27.498597046143516, y: 27.498597046143516, z: 0, is I: 0.023995168626054986\n",
      "Moved to x: -27.76048844658298, y: 27.76048844658298, z: 0\n",
      "Intensity at x: -27.76048844658298, y: 27.76048844658298, z: 0, is I: 0.0240004199804196\n",
      "Moved to x: -28.022379847022442, y: 28.022379847022442, z: 0\n",
      "Intensity at x: -28.022379847022442, y: 28.022379847022442, z: 0, is I: 0.024004092743779345\n",
      "Moved to x: -28.284271247461906, y: 28.284271247461906, z: 0\n",
      "Intensity at x: -28.284271247461906, y: 28.284271247461906, z: 0, is I: 0.024006185465688706\n",
      "Moved to x: -28.54616264790137, y: 28.54616264790137, z: 0\n",
      "Intensity at x: -28.54616264790137, y: 28.54616264790137, z: 0, is I: 0.0240066973193934\n"
     ]
    }
   ],
   "source": [
    "interation = 100\n",
    "found = False\n",
    "counter = 0\n",
    "step = 10\n",
    "\n",
    "inten1 = start.Intensity(wifi)\n",
    "while found is False and counter < interation:\n",
    "    \n",
    "    \n",
    "    start.MoveAlongLine_xy(new_direction, step)\n",
    "    inten2 = start.Intensity(wifi)\n",
    "    \n",
    "    if inten2 < inten1:\n",
    "        step = -step/3\n",
    "    \n",
    "    if abs((inten2 - inten1) *100 / inten1) < 0.005:\n",
    "        found = True\n",
    "        \n",
    "    inten1, inten2 = inten2, None\n",
    "    \n",
    "        \n",
    "    "
   ]
  },
  {
   "cell_type": "code",
   "execution_count": 15,
   "metadata": {},
   "outputs": [],
   "source": [
    "new_direction_2 = new_direction.GetPerpendicularFromPoint(start, axis=2)"
   ]
  },
  {
   "cell_type": "code",
   "execution_count": 16,
   "metadata": {},
   "outputs": [],
   "source": [
    "wifi_prediction = line.Line.IntersectLine(new_direction, new_direction_2, axis=2)"
   ]
  },
  {
   "cell_type": "code",
   "execution_count": 17,
   "metadata": {},
   "outputs": [
    {
     "data": {
      "text/plain": [
       "(2.0, 59.0)"
      ]
     },
     "execution_count": 17,
     "metadata": {},
     "output_type": "execute_result"
    }
   ],
   "source": [
    "round(wifi_prediction.x, 0), round(wifi_prediction.y, 0)"
   ]
  },
  {
   "cell_type": "code",
   "execution_count": 18,
   "metadata": {},
   "outputs": [
    {
     "data": {
      "text/plain": [
       "(2, 59, 48)"
      ]
     },
     "execution_count": 18,
     "metadata": {},
     "output_type": "execute_result"
    }
   ],
   "source": [
    "wifi.x, wifi.y, wifi.z"
   ]
  },
  {
   "cell_type": "code",
   "execution_count": null,
   "metadata": {},
   "outputs": [],
   "source": [
    "init_p1, init_p3 = point.Point(initx, inity, initz), point.Point(0, 1, 1)"
   ]
  },
  {
   "cell_type": "code",
   "execution_count": null,
   "metadata": {},
   "outputs": [],
   "source": [
    "init_line_2 = line.Line(init_p1, init_p3)"
   ]
  },
  {
   "cell_type": "code",
   "execution_count": null,
   "metadata": {},
   "outputs": [],
   "source": [
    "interation = 100\n",
    "found = False\n",
    "counter = 0\n",
    "step = 10\n",
    "\n",
    "inten1 = start.Intensity(wifi)\n",
    "while found is False and counter < interation:\n",
    "    \n",
    "    \n",
    "    start.MoveAlongLine_yz(init_line, step)\n",
    "    inten2 = start.Intensity(wifi)\n",
    "    \n",
    "    if inten2 < inten1:\n",
    "        step = -step/3\n",
    "    \n",
    "    if abs((inten2 - inten1) *100 / inten1) < 0.005:\n",
    "        found = True\n",
    "        \n",
    "    inten1, inten2 = inten2, None\n",
    "    \n",
    "        \n",
    "    "
   ]
  },
  {
   "cell_type": "code",
   "execution_count": null,
   "metadata": {},
   "outputs": [],
   "source": [
    "new_direction = init_line.GetPerpendicularFromPoint(start, axis=3)"
   ]
  },
  {
   "cell_type": "code",
   "execution_count": null,
   "metadata": {},
   "outputs": [],
   "source": [
    "new_direction.slope_yz, new_direction.intercept_yz"
   ]
  },
  {
   "cell_type": "code",
   "execution_count": null,
   "metadata": {},
   "outputs": [],
   "source": []
  },
  {
   "cell_type": "code",
   "execution_count": null,
   "metadata": {},
   "outputs": [],
   "source": []
  },
  {
   "cell_type": "code",
   "execution_count": null,
   "metadata": {},
   "outputs": [],
   "source": []
  },
  {
   "cell_type": "code",
   "execution_count": null,
   "metadata": {},
   "outputs": [],
   "source": []
  }
 ],
 "metadata": {
  "kernelspec": {
   "display_name": "Python 3",
   "language": "python",
   "name": "python3"
  },
  "language_info": {
   "codemirror_mode": {
    "name": "ipython",
    "version": 3
   },
   "file_extension": ".py",
   "mimetype": "text/x-python",
   "name": "python",
   "nbconvert_exporter": "python",
   "pygments_lexer": "ipython3",
   "version": "3.6.9"
  }
 },
 "nbformat": 4,
 "nbformat_minor": 2
}
