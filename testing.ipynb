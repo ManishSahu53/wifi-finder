{
 "cells": [
  {
   "cell_type": "code",
   "execution_count": 1,
   "metadata": {},
   "outputs": [],
   "source": [
    "import rssi\n",
    "import numpy as np\n",
    "\n",
    "interface = 'wlp1s0'\n",
    "rssi_scanner = rssi.RSSI_Scan(interface)"
   ]
  },
  {
   "cell_type": "code",
   "execution_count": 2,
   "metadata": {},
   "outputs": [],
   "source": [
    "from src import point, vector, line, source"
   ]
  },
  {
   "cell_type": "code",
   "execution_count": 3,
   "metadata": {},
   "outputs": [],
   "source": [
    "sx, sy = np.random.randint(0, 100, 1)[0], np.random.randint(0, 100, 1)[0]"
   ]
  },
  {
   "cell_type": "code",
   "execution_count": 4,
   "metadata": {},
   "outputs": [],
   "source": [
    "wifi = source.Source(sx, sy)"
   ]
  },
  {
   "cell_type": "code",
   "execution_count": 5,
   "metadata": {},
   "outputs": [],
   "source": [
    "initx, inity = 0, 0"
   ]
  },
  {
   "cell_type": "code",
   "execution_count": 6,
   "metadata": {},
   "outputs": [],
   "source": [
    "start = point.Point(initx, inity)"
   ]
  },
  {
   "cell_type": "code",
   "execution_count": 7,
   "metadata": {
    "scrolled": true
   },
   "outputs": [
    {
     "name": "stdout",
     "output_type": "stream",
     "text": [
      "Intensity at x: 0, y: 0 is I: 0.014098406880022557\n"
     ]
    },
    {
     "data": {
      "text/plain": [
       "0.014098406880022557"
      ]
     },
     "execution_count": 7,
     "metadata": {},
     "output_type": "execute_result"
    }
   ],
   "source": [
    "start.Intensity(wifi)"
   ]
  },
  {
   "cell_type": "code",
   "execution_count": 8,
   "metadata": {},
   "outputs": [],
   "source": [
    "init_p1, init_p2 = point.Point(initx, inity), point.Point(1, 1)"
   ]
  },
  {
   "cell_type": "code",
   "execution_count": 9,
   "metadata": {},
   "outputs": [],
   "source": [
    "init_line = line.Line(init_p1, init_p2)"
   ]
  },
  {
   "cell_type": "code",
   "execution_count": 10,
   "metadata": {},
   "outputs": [
    {
     "name": "stdout",
     "output_type": "stream",
     "text": [
      "Intensity at x: 0, y: 0 is I: 0.014098406880022557\n",
      "Moved to x: 7.0710678118654755, y: 7.071067811865475\n",
      "Intensity at x: 7.0710678118654755, y: 7.071067811865475 is I: 0.016891299001977833\n",
      "Moved to x: 14.142135623730951, y: 14.14213562373095\n",
      "Intensity at x: 14.142135623730951, y: 14.14213562373095 is I: 0.02021257325704354\n",
      "Moved to x: 21.213203435596427, y: 21.213203435596423\n",
      "Intensity at x: 21.213203435596427, y: 21.213203435596423 is I: 0.023954256674011493\n",
      "Moved to x: 28.284271247461902, y: 28.2842712474619\n",
      "Intensity at x: 28.284271247461902, y: 28.2842712474619 is I: 0.027763655520949275\n",
      "Moved to x: 35.35533905932738, y: 35.35533905932737\n",
      "Intensity at x: 35.35533905932738, y: 35.35533905932737 is I: 0.03096896660278636\n",
      "Moved to x: 42.42640687119285, y: 42.426406871192846\n",
      "Intensity at x: 42.42640687119285, y: 42.426406871192846 is I: 0.03271987105379469\n",
      "Moved to x: 49.49747468305833, y: 49.49747468305832\n",
      "Intensity at x: 49.49747468305833, y: 49.49747468305832 is I: 0.032431157375540524\n",
      "Moved to x: 47.14045207910317, y: 47.14045207910316\n",
      "Intensity at x: 47.14045207910317, y: 47.14045207910316 is I: 0.032763649156286656\n",
      "Moved to x: 44.78342947514801, y: 44.783429475148004\n",
      "Intensity at x: 44.78342947514801, y: 44.783429475148004 is I: 0.03286129392938433\n",
      "Moved to x: 42.42640687119285, y: 42.426406871192846\n",
      "Intensity at x: 42.42640687119285, y: 42.426406871192846 is I: 0.03271987105379469\n",
      "Moved to x: 43.21208107251124, y: 43.21208107251123\n",
      "Intensity at x: 43.21208107251124, y: 43.21208107251123 is I: 0.032793408358202415\n",
      "Moved to x: 43.997755273829625, y: 43.99775527382962\n",
      "Intensity at x: 43.997755273829625, y: 43.99775527382962 is I: 0.03284062554883386\n",
      "Moved to x: 44.78342947514801, y: 44.783429475148004\n",
      "Intensity at x: 44.78342947514801, y: 44.783429475148004 is I: 0.03286129392938433\n",
      "Moved to x: 45.5691036764664, y: 45.56910367646639\n",
      "Intensity at x: 45.5691036764664, y: 45.56910367646639 is I: 0.03285531308198015\n",
      "Moved to x: 45.30721227602694, y: 45.30721227602693\n",
      "Intensity at x: 45.30721227602694, y: 45.30721227602693 is I: 0.03286026859555687\n",
      "Moved to x: 45.04532087558748, y: 45.04532087558747\n",
      "Intensity at x: 45.04532087558748, y: 45.04532087558747 is I: 0.032862262570826126\n",
      "Moved to x: 44.78342947514802, y: 44.78342947514801\n",
      "Intensity at x: 44.78342947514802, y: 44.78342947514801 is I: 0.03286129392938433\n"
     ]
    }
   ],
   "source": [
    "interation = 100\n",
    "found = False\n",
    "counter = 0\n",
    "step = 10\n",
    "\n",
    "inten1 = start.Intensity(wifi)\n",
    "while found is False and counter < interation:\n",
    "    \n",
    "    \n",
    "    start.MoveAlongLine(init_line, step)\n",
    "    inten2 = start.Intensity(wifi)\n",
    "    \n",
    "    if inten2 < inten1:\n",
    "        step = -step/3\n",
    "    \n",
    "    if abs((inten2 - inten1) *100 / inten1) < 0.005:\n",
    "        found = True\n",
    "        \n",
    "    inten1, inten2 = inten2, None\n",
    "    \n",
    "        \n",
    "    "
   ]
  },
  {
   "cell_type": "code",
   "execution_count": 11,
   "metadata": {},
   "outputs": [],
   "source": [
    "new_direction = init_line.GetPerpendicularFromPoint(start)"
   ]
  },
  {
   "cell_type": "code",
   "execution_count": 12,
   "metadata": {},
   "outputs": [
    {
     "data": {
      "text/plain": [
       "(-1.0, 89.56685895029602)"
      ]
     },
     "execution_count": 12,
     "metadata": {},
     "output_type": "execute_result"
    }
   ],
   "source": [
    "new_direction.slope, new_direction.intercept"
   ]
  },
  {
   "cell_type": "code",
   "execution_count": 13,
   "metadata": {},
   "outputs": [
    {
     "name": "stdout",
     "output_type": "stream",
     "text": [
      "Moved to x: 0, y: 0\n"
     ]
    }
   ],
   "source": [
    "start.Goto(initx, inity)"
   ]
  },
  {
   "cell_type": "code",
   "execution_count": 14,
   "metadata": {
    "scrolled": true
   },
   "outputs": [
    {
     "name": "stdout",
     "output_type": "stream",
     "text": [
      "Intensity at x: 0, y: 0 is I: 0.014098406880022557\n",
      "Moved to x: 7.0710678118654755, y: -7.071067811865475\n",
      "Intensity at x: 7.0710678118654755, y: -7.071067811865475 is I: 0.012053876132071479\n",
      "Moved to x: 4.714045207910317, y: -4.714045207910316\n",
      "Intensity at x: 4.714045207910317, y: -4.714045207910316 is I: 0.012701903912465791\n",
      "Moved to x: 2.3570226039551585, y: -2.3570226039551576\n",
      "Intensity at x: 2.3570226039551585, y: -2.3570226039551576 is I: 0.013383643990519481\n",
      "Moved to x: 0.0, y: 8.881784197001252e-16\n",
      "Intensity at x: 0.0, y: 8.881784197001252e-16 is I: 0.014098406880022557\n",
      "Moved to x: -2.3570226039551585, y: 2.3570226039551594\n",
      "Intensity at x: -2.3570226039551585, y: 2.3570226039551594 is I: 0.01484468984132189\n",
      "Moved to x: -4.714045207910317, y: 4.714045207910318\n",
      "Intensity at x: -4.714045207910317, y: 4.714045207910318 is I: 0.015619988443832241\n",
      "Moved to x: -7.0710678118654755, y: 7.071067811865476\n",
      "Intensity at x: -7.0710678118654755, y: 7.071067811865476 is I: 0.016420594691779516\n",
      "Moved to x: -9.428090415820634, y: 9.428090415820634\n",
      "Intensity at x: -9.428090415820634, y: 9.428090415820634 is I: 0.017241392173286175\n",
      "Moved to x: -11.785113019775793, y: 11.785113019775793\n",
      "Intensity at x: -11.785113019775793, y: 11.785113019775793 is I: 0.01807566425328182\n",
      "Moved to x: -14.142135623730951, y: 14.142135623730951\n",
      "Intensity at x: -14.142135623730951, y: 14.142135623730951 is I: 0.018914937631845728\n",
      "Moved to x: -16.49915822768611, y: 16.49915822768611\n",
      "Intensity at x: -16.49915822768611, y: 16.49915822768611 is I: 0.019748889859944378\n",
      "Moved to x: -18.856180831641268, y: 18.856180831641268\n",
      "Intensity at x: -18.856180831641268, y: 18.856180831641268 is I: 0.020565354335548132\n",
      "Moved to x: -21.213203435596427, y: 21.213203435596427\n",
      "Intensity at x: -21.213203435596427, y: 21.213203435596427 is I: 0.02135045804474128\n",
      "Moved to x: -23.570226039551585, y: 23.570226039551585\n",
      "Intensity at x: -23.570226039551585, y: 23.570226039551585 is I: 0.022088923672329674\n",
      "Moved to x: -25.927248643506744, y: 25.927248643506744\n",
      "Intensity at x: -25.927248643506744, y: 25.927248643506744 is I: 0.02276455664201439\n",
      "Moved to x: -28.284271247461902, y: 28.284271247461902\n",
      "Intensity at x: -28.284271247461902, y: 28.284271247461902 is I: 0.023360918062856655\n",
      "Moved to x: -30.64129385141706, y: 30.64129385141706\n",
      "Intensity at x: -30.64129385141706, y: 30.64129385141706 is I: 0.02386215726887801\n",
      "Moved to x: -32.99831645537222, y: 32.99831645537222\n",
      "Intensity at x: -32.99831645537222, y: 32.99831645537222 is I: 0.024253946126630146\n",
      "Moved to x: -35.35533905932738, y: 35.35533905932738\n",
      "Intensity at x: -35.35533905932738, y: 35.35533905932738 is I: 0.024524427773263247\n",
      "Moved to x: -37.712361663282536, y: 37.712361663282536\n",
      "Intensity at x: -37.712361663282536, y: 37.712361663282536 is I: 0.024665072822161543\n",
      "Moved to x: -40.069384267237695, y: 40.069384267237695\n",
      "Intensity at x: -40.069384267237695, y: 40.069384267237695 is I: 0.024671333640775468\n",
      "Moved to x: -42.42640687119285, y: 42.42640687119285\n",
      "Intensity at x: -42.42640687119285, y: 42.42640687119285 is I: 0.024543005988245832\n",
      "Moved to x: -41.64073266987447, y: 41.64073266987447\n",
      "Intensity at x: -41.64073266987447, y: 41.64073266987447 is I: 0.024600567122664823\n",
      "Moved to x: -40.85505846855608, y: 40.85505846855608\n",
      "Intensity at x: -40.85505846855608, y: 40.85505846855608 is I: 0.024643394775021317\n",
      "Moved to x: -40.069384267237695, y: 40.069384267237695\n",
      "Intensity at x: -40.069384267237695, y: 40.069384267237695 is I: 0.024671333640775468\n",
      "Moved to x: -39.28371006591931, y: 39.28371006591931\n",
      "Intensity at x: -39.28371006591931, y: 39.28371006591931 is I: 0.02468428196867402\n",
      "Moved to x: -38.49803586460092, y: 38.49803586460092\n",
      "Intensity at x: -38.49803586460092, y: 38.49803586460092 is I: 0.024682192484567374\n",
      "Moved to x: -38.75992726504038, y: 38.75992726504038\n",
      "Intensity at x: -38.75992726504038, y: 38.75992726504038 is I: 0.024684560507221696\n",
      "Moved to x: -39.02181866547984, y: 39.02181866547984\n",
      "Intensity at x: -39.02181866547984, y: 39.02181866547984 is I: 0.02468525709626294\n"
     ]
    }
   ],
   "source": [
    "interation = 100\n",
    "found = False\n",
    "counter = 0\n",
    "step = 10\n",
    "\n",
    "inten1 = start.Intensity(wifi)\n",
    "while found is False and counter < interation:\n",
    "    \n",
    "    \n",
    "    start.MoveAlongLine(new_direction, step)\n",
    "    inten2 = start.Intensity(wifi)\n",
    "    \n",
    "    if inten2 < inten1:\n",
    "        step = -step/3\n",
    "    \n",
    "    if abs((inten2 - inten1) *100 / inten1) < 0.005:\n",
    "        found = True\n",
    "        \n",
    "    inten1, inten2 = inten2, None\n",
    "    \n",
    "        \n",
    "    "
   ]
  },
  {
   "cell_type": "code",
   "execution_count": 15,
   "metadata": {},
   "outputs": [],
   "source": [
    "new_direction_2 = new_direction.GetPerpendicularFromPoint(start)"
   ]
  },
  {
   "cell_type": "code",
   "execution_count": 18,
   "metadata": {},
   "outputs": [],
   "source": [
    "wifi_prediction = line.Line.IntersectLine(new_direction, new_direction_2)"
   ]
  },
  {
   "cell_type": "code",
   "execution_count": 22,
   "metadata": {},
   "outputs": [
    {
     "data": {
      "text/plain": [
       "(6.0, 84.0)"
      ]
     },
     "execution_count": 22,
     "metadata": {},
     "output_type": "execute_result"
    }
   ],
   "source": [
    "round(wifi_prediction.x, 0), round(wifi_prediction.y, 0)"
   ]
  },
  {
   "cell_type": "code",
   "execution_count": 23,
   "metadata": {},
   "outputs": [
    {
     "data": {
      "text/plain": [
       "(6, 84)"
      ]
     },
     "execution_count": 23,
     "metadata": {},
     "output_type": "execute_result"
    }
   ],
   "source": [
    "wifi.x, wifi.y"
   ]
  },
  {
   "cell_type": "code",
   "execution_count": null,
   "metadata": {},
   "outputs": [],
   "source": []
  }
 ],
 "metadata": {
  "kernelspec": {
   "display_name": "Python 3",
   "language": "python",
   "name": "python3"
  },
  "language_info": {
   "codemirror_mode": {
    "name": "ipython",
    "version": 3
   },
   "file_extension": ".py",
   "mimetype": "text/x-python",
   "name": "python",
   "nbconvert_exporter": "python",
   "pygments_lexer": "ipython3",
   "version": "3.6.9"
  }
 },
 "nbformat": 4,
 "nbformat_minor": 2
}
